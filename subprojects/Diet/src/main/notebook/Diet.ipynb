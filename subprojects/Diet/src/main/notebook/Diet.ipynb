{
 "cells": [
  {
   "cell_type": "markdown",
   "metadata": {},
   "source": [
    "## Diet optimization\n",
    "\n",
    "We'll use [Apache Commons Math](https://commons.apache.org/proper/commons-math/) to solve."
   ]
  },
  {
   "cell_type": "code",
   "execution_count": 1,
   "metadata": {},
   "outputs": [
    {
     "data": {
      "application/vnd.jupyter.widget-view+json": {
       "model_id": "",
       "version_major": 2,
       "version_minor": 0
      },
      "method": "display_data"
     },
     "metadata": {},
     "output_type": "display_data"
    },
    {
     "data": {
      "application/vnd.jupyter.widget-view+json": {
       "model_id": "7d11bec6-21a6-41a9-969d-a497f1f02e6a",
       "version_major": 2,
       "version_minor": 0
      },
      "method": "display_data"
     },
     "metadata": {},
     "output_type": "display_data"
    }
   ],
   "source": [
    "%%classpath add mvn\n",
    "org.apache.commons commons-math3 3.6.1"
   ]
  },
  {
   "cell_type": "code",
   "execution_count": 2,
   "metadata": {},
   "outputs": [],
   "source": [
    "%import org.apache.commons.math3.optim.linear.*\n",
    "%import org.apache.commons.math3.optim.nonlinear.scalar.GoalType\n",
    "%import static org.apache.commons.math3.optim.linear.Relationship.*"
   ]
  },
  {
   "cell_type": "code",
   "execution_count": 4,
   "metadata": {},
   "outputs": [
    {
     "name": "stdout",
     "output_type": "stream",
     "text": [
      "Opt: 12.08\n",
      "-0.00, 0.05, 0.45, 1.87, 0.50, 0.00\n"
     ]
    }
   ],
   "source": [
    "def cost = new LinearObjectiveFunction([2.0, 3.5, 8.0, 1.5, 11.0, 1.0] as double[], 0)\n",
    "\n",
    "static scalar(coeffs, rel, val) { new LinearConstraint(coeffs as double[], rel, val) }\n",
    "\n",
    "def bread_min  = scalar([1, 0, 0, 0, 0, 0], GEQ, 0)\n",
    "def milk_min   = scalar([0, 1, 0, 0, 0, 0], GEQ, 0)\n",
    "def milk_max   = scalar([0, 1, 0, 0, 0, 0], LEQ, 1)\n",
    "def cheese_min = scalar([0, 0, 1, 0, 0, 0], GEQ, 0)\n",
    "def potato_min = scalar([0, 0, 0, 1, 0, 0], GEQ, 0)\n",
    "def fish_min   = scalar([0, 0, 0, 0, 1, 0], GEQ, 0.5)\n",
    "def yogurt_min = scalar([0, 0, 0, 0, 0, 1], GEQ, 0)\n",
    "def protein    = scalar([4.0, 8.0, 7.0, 1.3, 8.0, 9.2],     LEQ, 10)\n",
    "def fat        = scalar([1.0, 5.0, 9.0, 0.1, 7.0, 1.0],     GEQ, 8)\n",
    "def carbs      = scalar([15.0, 11.7, 0.4, 22.6, 0.0, 17.0], GEQ, 10)\n",
    "def calories   = scalar([90, 120, 106, 97, 130, 180],       GEQ, 300)\n",
    "\n",
    "LinearConstraintSet constraints = [bread_min, milk_min, milk_max, fish_min, cheese_min,\n",
    "                                   potato_min, yogurt_min, protein, fat, carbs, calories]\n",
    "\n",
    "def solution = new SimplexSolver().optimize(cost, constraints, GoalType.MINIMIZE)\n",
    "\n",
    "if (solution != null) {\n",
    "    printf \"Opt: %.2f%n\", solution.value\n",
    "    println solution.point.collect{ sprintf '%.2f', it }.join(', ')\n",
    "}\n",
    "OutputCell.HIDDEN"
   ]
  },
  {
   "cell_type": "code",
   "execution_count": null,
   "metadata": {},
   "outputs": [],
   "source": []
  }
 ],
 "metadata": {
  "anaconda-cloud": {},
  "kernelspec": {
   "display_name": "Groovy",
   "language": "groovy",
   "name": "groovy"
  },
  "language_info": {
   "codemirror_mode": "groovy",
   "file_extension": ".groovy",
   "mimetype": "",
   "name": "Groovy",
   "nbconverter_exporter": "",
   "version": "2.5.6"
  },
  "toc": {
   "base_numbering": 1,
   "nav_menu": {},
   "number_sections": false,
   "sideBar": false,
   "skip_h1_title": false,
   "title_cell": "Table of Contents",
   "title_sidebar": "Contents",
   "toc_cell": false,
   "toc_position": {},
   "toc_section_display": false,
   "toc_window_display": false
  }
 },
 "nbformat": 4,
 "nbformat_minor": 2
}
